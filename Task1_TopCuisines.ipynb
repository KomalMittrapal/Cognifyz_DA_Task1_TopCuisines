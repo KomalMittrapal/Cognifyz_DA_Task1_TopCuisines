{
  "nbformat": 4,
  "nbformat_minor": 0,
  "metadata": {
    "colab": {
      "provenance": []
    },
    "kernelspec": {
      "name": "python3",
      "display_name": "Python 3"
    },
    "language_info": {
      "name": "python"
    }
  },
  "cells": [
    {
      "cell_type": "markdown",
      "source": [
        "# TASK 1 – Top Cuisines (Cognifyz Internship)"
      ],
      "metadata": {
        "id": "-ZtblJulm6vv"
      }
    },
    {
      "cell_type": "code",
      "execution_count": 1,
      "metadata": {
        "id": "wxYYjHF2e0M0"
      },
      "outputs": [],
      "source": [
        "import pandas as pd\n",
        "import matplotlib.pyplot as plt"
      ]
    },
    {
      "cell_type": "code",
      "source": [
        "# Load the dataset\n",
        "file_path = \"Dataset.csv\"\n",
        "df = pd.read_csv(file_path)\n",
        "\n",
        "print(\"Dataset loaded successfully!\")\n",
        "print(\"Rows:\", df.shape[0], \" Columns:\", df.shape[1])\n",
        "print(\"\\nColumns available:\", df.columns.tolist())"
      ],
      "metadata": {
        "colab": {
          "base_uri": "https://localhost:8080/"
        },
        "id": "cAK2IwnDnG6Q",
        "outputId": "7e31f0af-b32d-4842-dbd3-d317ec82e94b"
      },
      "execution_count": 2,
      "outputs": [
        {
          "output_type": "stream",
          "name": "stdout",
          "text": [
            "Dataset loaded successfully!\n",
            "Rows: 9551  Columns: 21\n",
            "\n",
            "Columns available: ['Restaurant ID', 'Restaurant Name', 'Country Code', 'City', 'Address', 'Locality', 'Locality Verbose', 'Longitude', 'Latitude', 'Cuisines', 'Average Cost for two', 'Currency', 'Has Table booking', 'Has Online delivery', 'Is delivering now', 'Switch to order menu', 'Price range', 'Aggregate rating', 'Rating color', 'Rating text', 'Votes']\n"
          ]
        }
      ]
    },
    {
      "cell_type": "code",
      "source": [
        "# Check for duplicates / missing\n",
        "print(\"\\nDuplicate rows:\", df.duplicated().sum())\n",
        "print(\"Missing values in 'Cuisines':\", df['Cuisines'].isnull().sum())\n",
        "\n",
        "# Data Cleaning\n",
        "df['Cuisines'] = (\n",
        "    df['Cuisines']\n",
        "    .fillna('')\n",
        "    .str.lower()\n",
        "    .str.strip()\n",
        "    .str.replace(r'[\\/\\|;]', ',', regex=True)\n",
        ")\n",
        "\n",
        "print(\"\\nCleaning done! Sample values:\")\n",
        "print(df['Cuisines'].head(5).values)"
      ],
      "metadata": {
        "colab": {
          "base_uri": "https://localhost:8080/"
        },
        "id": "72Woh2BgnG9f",
        "outputId": "3294db81-c0ef-4a41-fb15-8e2cc6f1b4f7"
      },
      "execution_count": 3,
      "outputs": [
        {
          "output_type": "stream",
          "name": "stdout",
          "text": [
            "\n",
            "Duplicate rows: 0\n",
            "Missing values in 'Cuisines': 9\n",
            "\n",
            "Cleaning done! Sample values:\n",
            "['french, japanese, desserts' 'japanese'\n",
            " 'seafood, asian, filipino, indian' 'japanese, sushi' 'japanese, korean']\n"
          ]
        }
      ]
    },
    {
      "cell_type": "code",
      "source": [
        "# Using split and explode\n",
        "df['Cuisines'] = df['Cuisines'].str.split(',')\n",
        "df_exp = df.explode('Cuisines')\n",
        "\n",
        "# Remove blank rows after explode\n",
        "df_exp['Cuisines'] = df_exp['Cuisines'].str.strip()\n",
        "df_exp = df_exp[df_exp['Cuisines'] != '']\n",
        "\n",
        "print(\"Rows after explode:\", len(df_exp))"
      ],
      "metadata": {
        "colab": {
          "base_uri": "https://localhost:8080/"
        },
        "id": "hpvO93ihnHBJ",
        "outputId": "a37bb79c-2a38-42f4-a9de-b76a701a7b5f"
      },
      "execution_count": 4,
      "outputs": [
        {
          "output_type": "stream",
          "name": "stdout",
          "text": [
            "Rows after explode: 19710\n"
          ]
        }
      ]
    },
    {
      "cell_type": "code",
      "source": [
        "cuisine_counts = (\n",
        "    df_exp.groupby('Cuisines')['Restaurant ID']\n",
        "    .nunique()\n",
        "    .reset_index(name='Restaurant_Count')\n",
        "    .sort_values('Restaurant_Count', ascending=False)\n",
        ")\n",
        "\n",
        "total_restaurants = df['Restaurant ID'].nunique()\n",
        "cuisine_counts['Percentage'] = (cuisine_counts['Restaurant_Count'] / total_restaurants * 100).round(2)\n",
        "\n",
        "top3 = cuisine_counts.head(3)\n",
        "print(\"\\n🏆 Top 3 Cuisines:\")\n",
        "print(top3)"
      ],
      "metadata": {
        "colab": {
          "base_uri": "https://localhost:8080/"
        },
        "id": "Ua8ZAAMHnHEy",
        "outputId": "0159f690-80d8-463d-d6cb-7859e47ba5c4"
      },
      "execution_count": 5,
      "outputs": [
        {
          "output_type": "stream",
          "name": "stdout",
          "text": [
            "\n",
            "🏆 Top 3 Cuisines:\n",
            "         Cuisines  Restaurant_Count  Percentage\n",
            "100  north indian              3960       41.46\n",
            "34        chinese              2733       28.61\n",
            "49      fast food              1986       20.79\n"
          ]
        }
      ]
    },
    {
      "cell_type": "code",
      "source": [
        "# Visualization\n",
        "plt.figure(figsize=(8,5))\n",
        "plt.bar(top3['Cuisines'].str.title(), top3['Percentage'], color='skyblue')\n",
        "plt.title(\"Top 3 Cuisines (by % of Restaurants)\")\n",
        "plt.xlabel(\"Cuisine Type\")\n",
        "plt.ylabel(\"Percentage of Restaurants (%)\")\n",
        "\n",
        "# Add percentage labels\n",
        "for i, v in enumerate(top3['Percentage']):\n",
        "    plt.text(i, v + 0.5, f\"{v}%\", ha='center')\n",
        "\n",
        "plt.tight_layout()\n",
        "plt.savefig(\"top3_cuisines_chart.png\", bbox_inches='tight')\n",
        "plt.show()"
      ],
      "metadata": {
        "colab": {
          "base_uri": "https://localhost:8080/",
          "height": 507
        },
        "id": "3YlrWUn3nHIE",
        "outputId": "81d1023d-8e2c-4307-9f8b-82d0238df968"
      },
      "execution_count": 6,
      "outputs": [
        {
          "output_type": "display_data",
          "data": {
            "text/plain": [
              "<Figure size 800x500 with 1 Axes>"
            ],
            "image/png": "[encoded data removed]"
          },
          "metadata": {}
        }
      ]
    },
    {
      "cell_type": "code",
      "source": [],
      "metadata": {
        "id": "z-vSagjZnX1I"
      },
      "execution_count": null,
      "outputs": []
    }
  ]
}